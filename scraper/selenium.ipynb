{
 "cells": [
  {
   "cell_type": "code",
   "id": "initial_id",
   "metadata": {
    "collapsed": true,
    "ExecuteTime": {
     "end_time": "2025-08-07T19:06:51.250649Z",
     "start_time": "2025-08-07T19:06:33.490649Z"
    }
   },
   "source": [
    "# Reliance Digital Dell G15 5530 Laptop Scraper\n",
    "from selenium import webdriver\n",
    "from selenium.webdriver.common.by import By\n",
    "from selenium.webdriver.support.ui import WebDriverWait\n",
    "from selenium.webdriver.support import expected_conditions as EC\n",
    "from webdriver_manager.chrome import ChromeDriverManager\n",
    "from selenium.webdriver.chrome.service import Service\n",
    "from pymongo import MongoClient\n",
    "import datetime\n",
    "\n",
    "# MongoDB Setup\n",
    "client = MongoClient(\"mongodb://localhost:27017/\")\n",
    "db = client[\"buygenix\"]\n",
    "reliance_collection = db[\"dell_g15_reliance\"]\n",
    "\n",
    "def scrape_reliance_digital_final(url):\n",
    "    driver = webdriver.Chrome(service=Service(ChromeDriverManager().install()))\n",
    "    driver.get(url)\n",
    "\n",
    "    title = \"NA\"\n",
    "    price = None\n",
    "\n",
    "    try:\n",
    "\n",
    "        title_element = WebDriverWait(driver, 10).until(\n",
    "            EC.presence_of_element_located((By.CLASS_NAME, \"product-name\"))\n",
    "        )\n",
    "        title = title_element.text\n",
    "        print(f\"Title found: {title}\")\n",
    "\n",
    "\n",
    "        price_element = WebDriverWait(driver, 10).until(\n",
    "            EC.presence_of_element_located((By.CSS_SELECTOR, \"div[aria-label^='₹']\"))\n",
    "        )\n",
    "        price_text = price_element.get_attribute(\"aria-label\")\n",
    "        if price_text:\n",
    "            cleaned_price_text = price_text.replace(\"₹\", \"\").replace(\",\", \"\").strip()\n",
    "            price = float(cleaned_price_text)\n",
    "        print(f\"Price found: {price}\")\n",
    "\n",
    "    except Exception as e:\n",
    "        print(f\"Error scraping Reliance Digital: {e}\")\n",
    "\n",
    "    driver.quit()\n",
    "\n",
    "    reliance_collection.insert_one({\n",
    "        \"title\": title,\n",
    "        \"price\": price,\n",
    "        \"store\": \"Reliance Digital\",\n",
    "        \"timestamp\": datetime.datetime.now(),\n",
    "        \"url\": url\n",
    "    })\n",
    "\n",
    "    print(\"Reliance Digital data stored in MongoDB\")\n",
    "\n",
    "\n",
    "reliance_url = \"https://www.reliancedigital.in/dell-g15-5530-gaming-laptop-13th-gen-intel-core-i5-13450hx-16-gb-512-gb-ssd-nvidia-rtx-3050-graphics-win-11-mso-fhd-/p/4938634\"\n",
    "scrape_reliance_digital_final(reliance_url)"
   ],
   "outputs": [
    {
     "name": "stdout",
     "output_type": "stream",
     "text": [
      "Error scraping Reliance Digital: Message: \n",
      "Stacktrace:\n",
      "\tGetHandleVerifier [0x0x11dba83+63395]\n",
      "\tGetHandleVerifier [0x0x11dbac4+63460]\n",
      "\t(No symbol) [0x0x1022113]\n",
      "\t(No symbol) [0x0x106a85e]\n",
      "\t(No symbol) [0x0x106abfb]\n",
      "\t(No symbol) [0x0x10b2f92]\n",
      "\t(No symbol) [0x0x108f3f4]\n",
      "\t(No symbol) [0x0x10b07ba]\n",
      "\t(No symbol) [0x0x108f1a6]\n",
      "\t(No symbol) [0x0x105e7b2]\n",
      "\t(No symbol) [0x0x105f654]\n",
      "\tGetHandleVerifier [0x0x1458883+2672035]\n",
      "\tGetHandleVerifier [0x0x1453cba+2652634]\n",
      "\tGetHandleVerifier [0x0x1202bca+223466]\n",
      "\tGetHandleVerifier [0x0x11f2cb8+158168]\n",
      "\tGetHandleVerifier [0x0x11f978d+185517]\n",
      "\tGetHandleVerifier [0x0x11e3b78+96408]\n",
      "\tGetHandleVerifier [0x0x11e3d02+96802]\n",
      "\tGetHandleVerifier [0x0x11ce90a+9770]\n",
      "\tBaseThreadInitThunk [0x0x76415d49+25]\n",
      "\tRtlInitializeExceptionChain [0x0x7786d1ab+107]\n",
      "\tRtlGetAppContainerNamedObjectPath [0x0x7786d131+561]\n",
      "\n",
      "Reliance Digital data stored in MongoDB\n"
     ]
    }
   ],
   "execution_count": 5
  },
  {
   "metadata": {},
   "cell_type": "code",
   "outputs": [],
   "execution_count": null,
   "source": "",
   "id": "d6c76dec0fc7bcf8"
  }
 ],
 "metadata": {
  "kernelspec": {
   "display_name": "Python 3",
   "language": "python",
   "name": "python3"
  },
  "language_info": {
   "codemirror_mode": {
    "name": "ipython",
    "version": 2
   },
   "file_extension": ".py",
   "mimetype": "text/x-python",
   "name": "python",
   "nbconvert_exporter": "python",
   "pygments_lexer": "ipython2",
   "version": "2.7.6"
  }
 },
 "nbformat": 4,
 "nbformat_minor": 5
}
