{
 "cells": [
  {
   "cell_type": "code",
   "id": "initial_id",
   "metadata": {
    "collapsed": true,
    "ExecuteTime": {
     "end_time": "2025-08-05T11:30:37.909418Z",
     "start_time": "2025-08-05T11:30:35.625876Z"
    }
   },
   "source": [
    "# Amazon Dell G15 5530 Laptop Scraper\n",
    "\n",
    "import requests\n",
    "from bs4 import BeautifulSoup\n",
    "from pymongo import MongoClient\n",
    "\n",
    "# MongoDB setup\n",
    "client = MongoClient(\"mongodb://localhost:27017/\")\n",
    "db = client[\"buygenix\"]\n",
    "collection = db[\"dell_g15_5530\"]\n",
    "\n",
    "# Target product URL (Amazon product page)\n",
    "url = \"https://www.amazon.in/dp/B0D83B2XKP\"\n",
    "\n",
    "# Headers to avoid bot detection\n",
    "headers = {\n",
    "    \"User-Agent\": \"Mozilla/5.0 (Windows NT 10.0; Win64; x64) AppleWebKit/537.36 (KHTML, like Gecko) Chrome/91.0.4472.124 Safari/537.36\",\n",
    "    \"Accept-Language\": \"en-US,en;q=0.5\"\n",
    "}\n",
    "\n",
    "# Send request\n",
    "response = requests.get(url, headers=headers)\n",
    "soup = BeautifulSoup(response.content, \"html.parser\")\n",
    "\n",
    "# Initialize variables with default values to prevent NameError\n",
    "title = \"NA\"\n",
    "price = None\n",
    "rating = \"NA\"\n",
    "description = \"NA\"\n",
    "\n",
    "# --- Scrape data using robust try-except blocks ---\n",
    "try:\n",
    "    title_element = soup.find(\"span\", {\"id\": \"productTitle\"})\n",
    "    if title_element:\n",
    "        title = title_element.get_text(strip=True)\n",
    "except Exception as e:\n",
    "    print(f\"Error scraping title: {e}\")\n",
    "\n",
    "try:\n",
    "    # First, try finding the price from the 'a-offscreen' class (most reliable)\n",
    "    price_element = soup.find(\"span\", {\"class\": \"a-offscreen\"})\n",
    "    if price_element:\n",
    "        price_text = price_element.get_text(strip=True)\n",
    "    else:\n",
    "        # If a-offscreen is not found, try the a-price-whole class\n",
    "        price_element = soup.find(\"span\", {\"class\": \"a-price-whole\"})\n",
    "        if price_element:\n",
    "            price_text = price_element.get_text(strip=True)\n",
    "\n",
    "    if price_text:\n",
    "        cleaned_price_text = price_text.replace(\"₹\", \"\").replace(\",\", \"\").strip()\n",
    "        price = float(cleaned_price_text)\n",
    "except Exception as e:\n",
    "    print(f\"Error scraping price: {e}\")\n",
    "\n",
    "try:\n",
    "    rating_element = soup.find(\"span\", {\"class\": \"a-icon-alt\"})\n",
    "    if rating_element:\n",
    "        rating = rating_element.get_text(strip=True)\n",
    "except Exception as e:\n",
    "    print(f\"Error scraping rating: {e}\")\n",
    "\n",
    "try:\n",
    "    description_element = soup.find(\"div\", {\"id\": \"feature-bullets\"})\n",
    "    if description_element:\n",
    "        description = description_element.get_text(strip=True)\n",
    "except Exception as e:\n",
    "    print(f\"Error scraping description: {e}\")\n",
    "\n",
    "# --- Store in MongoDB ---\n",
    "collection.insert_one({\n",
    "    \"title\": title,\n",
    "    \"price\": price,\n",
    "    \"rating\": rating,\n",
    "    \"description\": description,\n",
    "    \"url\": url\n",
    "})\n",
    "\n",
    "print(\"Data stored in MongoDB\")"
   ],
   "outputs": [
    {
     "name": "stdout",
     "output_type": "stream",
     "text": [
      "Data stored in MongoDB\n"
     ]
    }
   ],
   "execution_count": 4
  },
  {
   "metadata": {},
   "cell_type": "code",
   "outputs": [],
   "execution_count": null,
   "source": "",
   "id": "69732f6f497ba15f"
  }
 ],
 "metadata": {
  "kernelspec": {
   "display_name": "Python 3",
   "language": "python",
   "name": "python3"
  },
  "language_info": {
   "codemirror_mode": {
    "name": "ipython",
    "version": 2
   },
   "file_extension": ".py",
   "mimetype": "text/x-python",
   "name": "python",
   "nbconvert_exporter": "python",
   "pygments_lexer": "ipython2",
   "version": "2.7.6"
  }
 },
 "nbformat": 4,
 "nbformat_minor": 5
}
