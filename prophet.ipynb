{
 "cells": [
  {
   "cell_type": "code",
   "id": "initial_id",
   "metadata": {
    "collapsed": true,
    "ExecuteTime": {
     "end_time": "2025-08-16T12:22:23.316427Z",
     "start_time": "2025-08-16T12:22:21.313606Z"
    }
   },
   "source": "pip install pymongo",
   "outputs": [
    {
     "name": "stdout",
     "output_type": "stream",
     "text": [
      "Requirement already satisfied: pymongo in c:\\users\\kshitij vats\\onedrive\\desktop\\buygenix\\.venv\\lib\\site-packages (4.13.2)\n",
      "Requirement already satisfied: dnspython<3.0.0,>=1.16.0 in c:\\users\\kshitij vats\\onedrive\\desktop\\buygenix\\.venv\\lib\\site-packages (from pymongo) (2.7.0)\n",
      "Note: you may need to restart the kernel to use updated packages.\n"
     ]
    },
    {
     "name": "stderr",
     "output_type": "stream",
     "text": [
      "\n",
      "[notice] A new release of pip is available: 25.1.1 -> 25.2\n",
      "[notice] To update, run: python.exe -m pip install --upgrade pip\n"
     ]
    }
   ],
   "execution_count": 1
  },
  {
   "metadata": {
    "ExecuteTime": {
     "end_time": "2025-08-16T12:22:34.383867Z",
     "start_time": "2025-08-16T12:22:33.020332Z"
    }
   },
   "cell_type": "code",
   "source": "pip install pandas",
   "id": "931ecb91b8e805f9",
   "outputs": [
    {
     "name": "stdout",
     "output_type": "stream",
     "text": [
      "Requirement already satisfied: pandas in c:\\users\\kshitij vats\\onedrive\\desktop\\buygenix\\.venv\\lib\\site-packages (2.3.1)\n",
      "Requirement already satisfied: numpy>=1.26.0 in c:\\users\\kshitij vats\\onedrive\\desktop\\buygenix\\.venv\\lib\\site-packages (from pandas) (2.3.2)\n",
      "Requirement already satisfied: python-dateutil>=2.8.2 in c:\\users\\kshitij vats\\onedrive\\desktop\\buygenix\\.venv\\lib\\site-packages (from pandas) (2.9.0.post0)\n",
      "Requirement already satisfied: pytz>=2020.1 in c:\\users\\kshitij vats\\onedrive\\desktop\\buygenix\\.venv\\lib\\site-packages (from pandas) (2025.2)\n",
      "Requirement already satisfied: tzdata>=2022.7 in c:\\users\\kshitij vats\\onedrive\\desktop\\buygenix\\.venv\\lib\\site-packages (from pandas) (2025.2)\n",
      "Requirement already satisfied: six>=1.5 in c:\\users\\kshitij vats\\onedrive\\desktop\\buygenix\\.venv\\lib\\site-packages (from python-dateutil>=2.8.2->pandas) (1.17.0)\n",
      "Note: you may need to restart the kernel to use updated packages.\n"
     ]
    },
    {
     "name": "stderr",
     "output_type": "stream",
     "text": [
      "\n",
      "[notice] A new release of pip is available: 25.1.1 -> 25.2\n",
      "[notice] To update, run: python.exe -m pip install --upgrade pip\n"
     ]
    }
   ],
   "execution_count": 2
  },
  {
   "metadata": {
    "ExecuteTime": {
     "end_time": "2025-08-16T12:22:57.116658Z",
     "start_time": "2025-08-16T12:22:48.273754Z"
    }
   },
   "cell_type": "code",
   "source": "pip install prophet",
   "id": "634032f0eed72307",
   "outputs": [
    {
     "name": "stdout",
     "output_type": "stream",
     "text": [
      "Collecting prophet\n",
      "  Downloading prophet-1.1.7-py3-none-win_amd64.whl.metadata (3.6 kB)\n",
      "Collecting cmdstanpy>=1.0.4 (from prophet)\n",
      "  Downloading cmdstanpy-1.2.5-py3-none-any.whl.metadata (4.0 kB)\n",
      "Requirement already satisfied: numpy>=1.15.4 in c:\\users\\kshitij vats\\onedrive\\desktop\\buygenix\\.venv\\lib\\site-packages (from prophet) (2.3.2)\n",
      "Requirement already satisfied: matplotlib>=2.0.0 in c:\\users\\kshitij vats\\onedrive\\desktop\\buygenix\\.venv\\lib\\site-packages (from prophet) (3.10.5)\n",
      "Requirement already satisfied: pandas>=1.0.4 in c:\\users\\kshitij vats\\onedrive\\desktop\\buygenix\\.venv\\lib\\site-packages (from prophet) (2.3.1)\n",
      "Collecting holidays<1,>=0.25 (from prophet)\n",
      "  Downloading holidays-0.78-py3-none-any.whl.metadata (46 kB)\n",
      "Collecting tqdm>=4.36.1 (from prophet)\n",
      "  Using cached tqdm-4.67.1-py3-none-any.whl.metadata (57 kB)\n",
      "Collecting importlib_resources (from prophet)\n",
      "  Downloading importlib_resources-6.5.2-py3-none-any.whl.metadata (3.9 kB)\n",
      "Requirement already satisfied: python-dateutil in c:\\users\\kshitij vats\\onedrive\\desktop\\buygenix\\.venv\\lib\\site-packages (from holidays<1,>=0.25->prophet) (2.9.0.post0)\n",
      "Collecting stanio<2.0.0,>=0.4.0 (from cmdstanpy>=1.0.4->prophet)\n",
      "  Downloading stanio-0.5.1-py3-none-any.whl.metadata (1.6 kB)\n",
      "Requirement already satisfied: contourpy>=1.0.1 in c:\\users\\kshitij vats\\onedrive\\desktop\\buygenix\\.venv\\lib\\site-packages (from matplotlib>=2.0.0->prophet) (1.3.3)\n",
      "Requirement already satisfied: cycler>=0.10 in c:\\users\\kshitij vats\\onedrive\\desktop\\buygenix\\.venv\\lib\\site-packages (from matplotlib>=2.0.0->prophet) (0.12.1)\n",
      "Requirement already satisfied: fonttools>=4.22.0 in c:\\users\\kshitij vats\\onedrive\\desktop\\buygenix\\.venv\\lib\\site-packages (from matplotlib>=2.0.0->prophet) (4.59.0)\n",
      "Requirement already satisfied: kiwisolver>=1.3.1 in c:\\users\\kshitij vats\\onedrive\\desktop\\buygenix\\.venv\\lib\\site-packages (from matplotlib>=2.0.0->prophet) (1.4.8)\n",
      "Requirement already satisfied: packaging>=20.0 in c:\\users\\kshitij vats\\onedrive\\desktop\\buygenix\\.venv\\lib\\site-packages (from matplotlib>=2.0.0->prophet) (25.0)\n",
      "Requirement already satisfied: pillow>=8 in c:\\users\\kshitij vats\\onedrive\\desktop\\buygenix\\.venv\\lib\\site-packages (from matplotlib>=2.0.0->prophet) (11.3.0)\n",
      "Requirement already satisfied: pyparsing>=2.3.1 in c:\\users\\kshitij vats\\onedrive\\desktop\\buygenix\\.venv\\lib\\site-packages (from matplotlib>=2.0.0->prophet) (3.2.3)\n",
      "Requirement already satisfied: pytz>=2020.1 in c:\\users\\kshitij vats\\onedrive\\desktop\\buygenix\\.venv\\lib\\site-packages (from pandas>=1.0.4->prophet) (2025.2)\n",
      "Requirement already satisfied: tzdata>=2022.7 in c:\\users\\kshitij vats\\onedrive\\desktop\\buygenix\\.venv\\lib\\site-packages (from pandas>=1.0.4->prophet) (2025.2)\n",
      "Requirement already satisfied: six>=1.5 in c:\\users\\kshitij vats\\onedrive\\desktop\\buygenix\\.venv\\lib\\site-packages (from python-dateutil->holidays<1,>=0.25->prophet) (1.17.0)\n",
      "Requirement already satisfied: colorama in c:\\users\\kshitij vats\\onedrive\\desktop\\buygenix\\.venv\\lib\\site-packages (from tqdm>=4.36.1->prophet) (0.4.6)\n",
      "Downloading prophet-1.1.7-py3-none-win_amd64.whl (13.3 MB)\n",
      "   ---------------------------------------- 0.0/13.3 MB ? eta -:--:--\n",
      "   ---------------------------------------- 0.0/13.3 MB ? eta -:--:--\n",
      "   - -------------------------------------- 0.5/13.3 MB 8.5 MB/s eta 0:00:02\n",
      "   - -------------------------------------- 0.5/13.3 MB 8.5 MB/s eta 0:00:02\n",
      "   - -------------------------------------- 0.5/13.3 MB 8.5 MB/s eta 0:00:02\n",
      "   --------- ------------------------------ 3.1/13.3 MB 3.6 MB/s eta 0:00:03\n",
      "   ------------- -------------------------- 4.5/13.3 MB 4.1 MB/s eta 0:00:03\n",
      "   ------------------ --------------------- 6.3/13.3 MB 5.0 MB/s eta 0:00:02\n",
      "   --------------------- ------------------ 7.1/13.3 MB 4.9 MB/s eta 0:00:02\n",
      "   ---------------------- ----------------- 7.3/13.3 MB 4.5 MB/s eta 0:00:02\n",
      "   ------------------------ --------------- 8.1/13.3 MB 4.4 MB/s eta 0:00:02\n",
      "   ------------------------- -------------- 8.4/13.3 MB 4.2 MB/s eta 0:00:02\n",
      "   ----------------------------- ---------- 10.0/13.3 MB 4.3 MB/s eta 0:00:01\n",
      "   --------------------------------- ------ 11.3/13.3 MB 4.5 MB/s eta 0:00:01\n",
      "   ---------------------------------- ----- 11.5/13.3 MB 4.3 MB/s eta 0:00:01\n",
      "   ------------------------------------ --- 12.1/13.3 MB 4.2 MB/s eta 0:00:01\n",
      "   ---------------------------------------  13.1/13.3 MB 4.2 MB/s eta 0:00:01\n",
      "   ---------------------------------------- 13.3/13.3 MB 4.2 MB/s eta 0:00:00\n",
      "Downloading holidays-0.78-py3-none-any.whl (1.2 MB)\n",
      "   ---------------------------------------- 0.0/1.2 MB ? eta -:--:--\n",
      "   ---------------------------------------- 1.2/1.2 MB 6.7 MB/s eta 0:00:00\n",
      "Downloading cmdstanpy-1.2.5-py3-none-any.whl (94 kB)\n",
      "Downloading stanio-0.5.1-py3-none-any.whl (8.1 kB)\n",
      "Using cached tqdm-4.67.1-py3-none-any.whl (78 kB)\n",
      "Downloading importlib_resources-6.5.2-py3-none-any.whl (37 kB)\n",
      "Installing collected packages: tqdm, stanio, importlib_resources, holidays, cmdstanpy, prophet\n",
      "\n",
      "   ------------- -------------------------- 2/6 [importlib_resources]\n",
      "   -------------------- ------------------- 3/6 [holidays]\n",
      "   -------------------- ------------------- 3/6 [holidays]\n",
      "   -------------------- ------------------- 3/6 [holidays]\n",
      "   -------------------- ------------------- 3/6 [holidays]\n",
      "   -------------------- ------------------- 3/6 [holidays]\n",
      "   -------------------- ------------------- 3/6 [holidays]\n",
      "   -------------------- ------------------- 3/6 [holidays]\n",
      "   -------------------- ------------------- 3/6 [holidays]\n",
      "   -------------------------- ------------- 4/6 [cmdstanpy]\n",
      "   --------------------------------- ------ 5/6 [prophet]\n",
      "   --------------------------------- ------ 5/6 [prophet]\n",
      "   --------------------------------- ------ 5/6 [prophet]\n",
      "   --------------------------------- ------ 5/6 [prophet]\n",
      "   ---------------------------------------- 6/6 [prophet]\n",
      "\n",
      "Successfully installed cmdstanpy-1.2.5 holidays-0.78 importlib_resources-6.5.2 prophet-1.1.7 stanio-0.5.1 tqdm-4.67.1\n",
      "Note: you may need to restart the kernel to use updated packages.\n"
     ]
    },
    {
     "name": "stderr",
     "output_type": "stream",
     "text": [
      "\n",
      "[notice] A new release of pip is available: 25.1.1 -> 25.2\n",
      "[notice] To update, run: python.exe -m pip install --upgrade pip\n"
     ]
    }
   ],
   "execution_count": 3
  },
  {
   "metadata": {
    "ExecuteTime": {
     "end_time": "2025-08-16T12:23:28.708827Z",
     "start_time": "2025-08-16T12:23:27.296466Z"
    }
   },
   "cell_type": "code",
   "source": "pip install scikit-learn",
   "id": "7f94f6f7f1022d90",
   "outputs": [
    {
     "name": "stdout",
     "output_type": "stream",
     "text": [
      "Requirement already satisfied: scikit-learn in c:\\users\\kshitij vats\\onedrive\\desktop\\buygenix\\.venv\\lib\\site-packages (1.7.1)\n",
      "Requirement already satisfied: numpy>=1.22.0 in c:\\users\\kshitij vats\\onedrive\\desktop\\buygenix\\.venv\\lib\\site-packages (from scikit-learn) (2.3.2)\n",
      "Requirement already satisfied: scipy>=1.8.0 in c:\\users\\kshitij vats\\onedrive\\desktop\\buygenix\\.venv\\lib\\site-packages (from scikit-learn) (1.16.1)\n",
      "Requirement already satisfied: joblib>=1.2.0 in c:\\users\\kshitij vats\\onedrive\\desktop\\buygenix\\.venv\\lib\\site-packages (from scikit-learn) (1.5.1)\n",
      "Requirement already satisfied: threadpoolctl>=3.1.0 in c:\\users\\kshitij vats\\onedrive\\desktop\\buygenix\\.venv\\lib\\site-packages (from scikit-learn) (3.6.0)\n",
      "Note: you may need to restart the kernel to use updated packages.\n"
     ]
    },
    {
     "name": "stderr",
     "output_type": "stream",
     "text": [
      "\n",
      "[notice] A new release of pip is available: 25.1.1 -> 25.2\n",
      "[notice] To update, run: python.exe -m pip install --upgrade pip\n"
     ]
    }
   ],
   "execution_count": 4
  },
  {
   "metadata": {
    "ExecuteTime": {
     "end_time": "2025-08-16T16:53:30.279747Z",
     "start_time": "2025-08-16T16:53:19.767595Z"
    }
   },
   "cell_type": "code",
   "source": "pip install plotly",
   "id": "463ed90ea2deb75e",
   "outputs": [
    {
     "name": "stdout",
     "output_type": "stream",
     "text": [
      "Collecting plotly\n",
      "  Downloading plotly-6.3.0-py3-none-any.whl.metadata (8.5 kB)\n",
      "Collecting narwhals>=1.15.1 (from plotly)\n",
      "  Downloading narwhals-2.1.2-py3-none-any.whl.metadata (11 kB)\n",
      "Requirement already satisfied: packaging in c:\\users\\kshitij vats\\onedrive\\desktop\\buygenix\\.venv\\lib\\site-packages (from plotly) (25.0)\n",
      "Downloading plotly-6.3.0-py3-none-any.whl (9.8 MB)\n",
      "   ---------------------------------------- 0.0/9.8 MB ? eta -:--:--\n",
      "   ----- ---------------------------------- 1.3/9.8 MB 7.5 MB/s eta 0:00:02\n",
      "   ----- ---------------------------------- 1.3/9.8 MB 7.5 MB/s eta 0:00:02\n",
      "   ------- -------------------------------- 1.8/9.8 MB 2.9 MB/s eta 0:00:03\n",
      "   ------------- -------------------------- 3.4/9.8 MB 4.1 MB/s eta 0:00:02\n",
      "   ------------------------- -------------- 6.3/9.8 MB 6.2 MB/s eta 0:00:01\n",
      "   ------------------------------- -------- 7.6/9.8 MB 6.3 MB/s eta 0:00:01\n",
      "   -------------------------------------- - 9.4/9.8 MB 6.5 MB/s eta 0:00:01\n",
      "   ---------------------------------------- 9.8/9.8 MB 6.1 MB/s eta 0:00:00\n",
      "Downloading narwhals-2.1.2-py3-none-any.whl (392 kB)\n",
      "Installing collected packages: narwhals, plotly\n",
      "\n",
      "   ---------------------------------------- 0/2 [narwhals]\n",
      "   ---------------------------------------- 0/2 [narwhals]\n",
      "   ---------------------------------------- 0/2 [narwhals]\n",
      "   -------------------- ------------------- 1/2 [plotly]\n",
      "   -------------------- ------------------- 1/2 [plotly]\n",
      "   -------------------- ------------------- 1/2 [plotly]\n",
      "   -------------------- ------------------- 1/2 [plotly]\n",
      "   -------------------- ------------------- 1/2 [plotly]\n",
      "   -------------------- ------------------- 1/2 [plotly]\n",
      "   -------------------- ------------------- 1/2 [plotly]\n",
      "   -------------------- ------------------- 1/2 [plotly]\n",
      "   -------------------- ------------------- 1/2 [plotly]\n",
      "   -------------------- ------------------- 1/2 [plotly]\n",
      "   -------------------- ------------------- 1/2 [plotly]\n",
      "   -------------------- ------------------- 1/2 [plotly]\n",
      "   -------------------- ------------------- 1/2 [plotly]\n",
      "   -------------------- ------------------- 1/2 [plotly]\n",
      "   -------------------- ------------------- 1/2 [plotly]\n",
      "   -------------------- ------------------- 1/2 [plotly]\n",
      "   -------------------- ------------------- 1/2 [plotly]\n",
      "   -------------------- ------------------- 1/2 [plotly]\n",
      "   -------------------- ------------------- 1/2 [plotly]\n",
      "   -------------------- ------------------- 1/2 [plotly]\n",
      "   -------------------- ------------------- 1/2 [plotly]\n",
      "   -------------------- ------------------- 1/2 [plotly]\n",
      "   -------------------- ------------------- 1/2 [plotly]\n",
      "   -------------------- ------------------- 1/2 [plotly]\n",
      "   -------------------- ------------------- 1/2 [plotly]\n",
      "   -------------------- ------------------- 1/2 [plotly]\n",
      "   -------------------- ------------------- 1/2 [plotly]\n",
      "   -------------------- ------------------- 1/2 [plotly]\n",
      "   -------------------- ------------------- 1/2 [plotly]\n",
      "   -------------------- ------------------- 1/2 [plotly]\n",
      "   -------------------- ------------------- 1/2 [plotly]\n",
      "   -------------------- ------------------- 1/2 [plotly]\n",
      "   ---------------------------------------- 2/2 [plotly]\n",
      "\n",
      "Successfully installed narwhals-2.1.2 plotly-6.3.0\n",
      "Note: you may need to restart the kernel to use updated packages.\n"
     ]
    },
    {
     "name": "stderr",
     "output_type": "stream",
     "text": [
      "\n",
      "[notice] A new release of pip is available: 25.1.1 -> 25.2\n",
      "[notice] To update, run: python.exe -m pip install --upgrade pip\n"
     ]
    }
   ],
   "execution_count": 22
  },
  {
   "metadata": {
    "ExecuteTime": {
     "end_time": "2025-08-20T17:32:35.969411Z",
     "start_time": "2025-08-20T17:32:34.170857Z"
    }
   },
   "cell_type": "code",
   "source": [
    "import pandas as pd\n",
    "from prophet import Prophet\n",
    "import matplotlib.pyplot as plt\n",
    "\n",
    "# Name of your CSV file\n",
    "file_name = \"dell_data.csv\"\n",
    "\n",
    "try:\n",
    "    # Load data from the CSV file\n",
    "    df = pd.read_csv(file_name)\n",
    "\n",
    "    #  Normalize column names and prepare for Prophet\n",
    "    df.columns = df.columns.str.strip().str.lower()  # Clean and lowercase column names\n",
    "    df = df.rename(columns={'date': 'ds', 'price': 'y'})  # Rename to Prophet format\n",
    "\n",
    "    # Ensure the 'ds' column is in datetime format\n",
    "    df['ds'] = pd.to_datetime(df['ds'], format='%d-%m-%Y')\n",
    "\n",
    "    # Train the Prophet model\n",
    "    model = Prophet()\n",
    "    model.fit(df)\n",
    "\n",
    "    #  Create a DataFrame for future predictions\n",
    "    future = model.make_future_dataframe(periods=7)\n",
    "\n",
    "    #  Make the predictions\n",
    "    forecast = model.predict(future)\n",
    "\n",
    "    #  Print the predictions\n",
    "    print(\"\\n--- Next 7 Days Price Predictions ---\")\n",
    "    print(forecast[['ds', 'yhat']].tail(7).to_string(index=False))\n",
    "\n",
    "    #  Optional: Plot the forecast\n",
    "    fig1 = model.plot(forecast)\n",
    "    plt.show()\n",
    "\n",
    "except FileNotFoundError:\n",
    "    print(f\"Error: The file '{file_name}' was not found. Make sure it's in the same folder.\")\n",
    "except Exception as e:\n",
    "    print(f\"An error occurred: {e}\")"
   ],
   "id": "ce94932d053cf241",
   "outputs": [
    {
     "name": "stderr",
     "output_type": "stream",
     "text": [
      "23:02:35 - cmdstanpy - INFO - Chain [1] start processing\n",
      "23:02:35 - cmdstanpy - INFO - Chain [1] done processing\n"
     ]
    },
    {
     "name": "stdout",
     "output_type": "stream",
     "text": [
      "\n",
      "--- Next 7 Days Price Predictions ---\n",
      "        ds         yhat\n",
      "2025-08-12 73916.997114\n",
      "2025-08-13 74102.923749\n",
      "2025-08-14 74288.850385\n",
      "2025-08-15 74474.777021\n",
      "2025-08-16 74660.703656\n",
      "2025-08-17 74846.630292\n",
      "2025-08-18 75032.556928\n"
     ]
    },
    {
     "data": {
      "text/plain": [
       "<Figure size 1000x600 with 1 Axes>"
      ],
      "image/png": "[encoded data removed]"
     },
     "metadata": {},
     "output_type": "display_data"
    }
   ],
   "execution_count": 1
  },
  {
   "metadata": {},
   "cell_type": "code",
   "outputs": [],
   "execution_count": null,
   "source": "",
   "id": "75fb45ff8a85aa58"
  }
 ],
 "metadata": {
  "kernelspec": {
   "display_name": "Python 3",
   "language": "python",
   "name": "python3"
  },
  "language_info": {
   "codemirror_mode": {
    "name": "ipython",
    "version": 2
   },
   "file_extension": ".py",
   "mimetype": "text/x-python",
   "name": "python",
   "nbconvert_exporter": "python",
   "pygments_lexer": "ipython2",
   "version": "2.7.6"
  }
 },
 "nbformat": 4,
 "nbformat_minor": 5
}
